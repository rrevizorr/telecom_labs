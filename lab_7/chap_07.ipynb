{
  "nbformat": 4,
  "nbformat_minor": 0,
  "metadata": {
    "colab": {
      "provenance": []
    },
    "kernelspec": {
      "name": "python3",
      "display_name": "Python 3"
    },
    "language_info": {
      "name": "python"
    }
  },
  "cells": [
    {
      "cell_type": "code",
      "execution_count": null,
      "metadata": {
        "id": "_uXEwGY9Cgcv"
      },
      "outputs": [],
      "source": [
        "import os\n",
        "\n",
        "if not os.path.exists('thinkdsp.py'):\n",
        "    !wget https://github.com/AllenDowney/ThinkDSP/raw/master/code/thinkdsp.py\n",
        "\n",
        "import matplotlib.pyplot as plt\n",
        "from thinkdsp import decorate\n",
        "import numpy as np"
      ]
    },
    {
      "cell_type": "markdown",
      "source": [
        "# Упражнение 7.2"
      ],
      "metadata": {
        "id": "9a0qV4puF7oY"
      }
    },
    {
      "cell_type": "markdown",
      "source": [
        "Реализовать рекурсивное быстрое преобразование Фурье."
      ],
      "metadata": {
        "id": "Obej_o_oe2NB"
      }
    },
    {
      "cell_type": "markdown",
      "source": [
        "Найдём эталонный результат:"
      ],
      "metadata": {
        "id": "WK6UNSyLfiQg"
      }
    },
    {
      "cell_type": "code",
      "source": [
        "ys = [-0.5, 0.1, 0.7, -0.1]\n",
        "hs = np.fft.fft(ys)\n",
        "print(hs)"
      ],
      "metadata": {
        "colab": {
          "base_uri": "https://localhost:8080/"
        },
        "id": "SjDGmL2iFhBY",
        "outputId": "5472516a-9dfb-4bee-cdb8-1e7823a991ef"
      },
      "execution_count": null,
      "outputs": [
        {
          "output_type": "stream",
          "name": "stdout",
          "text": [
            "[ 0.2+0.j  -1.2-0.2j  0.2+0.j  -1.2+0.2j]\n"
          ]
        }
      ]
    },
    {
      "cell_type": "markdown",
      "source": [
        "Теперь разобьём данные на две половины и вычислим fft каждого:"
      ],
      "metadata": {
        "id": "MAC9jXZefn-3"
      }
    },
    {
      "cell_type": "code",
      "source": [
        "def fft_norec(ys):\n",
        "    N = len(ys)\n",
        "    He = np.fft.fft(ys[::2])\n",
        "    Ho = np.fft.fft(ys[1::2])\n",
        "\n",
        "    ns = np.arange(N)\n",
        "    W = np.exp(-1j * np.pi * 2 * ns / N)\n",
        "\n",
        "    return np.tile(He, 2) + W * np.tile(Ho, 2)"
      ],
      "metadata": {
        "id": "n9bTFt2hFkeI"
      },
      "execution_count": null,
      "outputs": []
    },
    {
      "cell_type": "code",
      "source": [
        "hs3 = fft_norec(ys)\n",
        "np.sum(np.abs(hs - hs3))"
      ],
      "metadata": {
        "colab": {
          "base_uri": "https://localhost:8080/"
        },
        "id": "7boFAvJBFl5o",
        "outputId": "93deb6e2-088a-4d66-cab3-a974a80cff65"
      },
      "execution_count": null,
      "outputs": [
        {
          "output_type": "execute_result",
          "data": {
            "text/plain": [
              "0.0"
            ]
          },
          "metadata": {},
          "execution_count": 10
        }
      ]
    },
    {
      "cell_type": "markdown",
      "source": [
        "Видно, что результат оказался тем же."
      ],
      "metadata": {
        "id": "8CRe4L0cfxKw"
      }
    },
    {
      "cell_type": "markdown",
      "source": [
        "Теперь вычисляем каждую половину рекурсивно:"
      ],
      "metadata": {
        "id": "2o99bCllf1MY"
      }
    },
    {
      "cell_type": "code",
      "source": [
        "def fft(ys):\n",
        "    N = len(ys)\n",
        "    if N == 1:\n",
        "        return ys\n",
        "\n",
        "    He = fft(ys[::2])\n",
        "    Ho = fft(ys[1::2])\n",
        "\n",
        "    ns = np.arange(N)\n",
        "    W = np.exp(-1j * np.pi*2 * ns / N)\n",
        "\n",
        "    return np.tile(He, 2) + W * np.tile(Ho, 2)"
      ],
      "metadata": {
        "id": "Za1W-y82FoSv"
      },
      "execution_count": null,
      "outputs": []
    },
    {
      "cell_type": "code",
      "source": [
        "hs4 = fft(ys)\n",
        "np.sum(np.abs(hs - hs4))"
      ],
      "metadata": {
        "colab": {
          "base_uri": "https://localhost:8080/"
        },
        "id": "qL49IWZUFp5Y",
        "outputId": "f7356478-5843-4830-be00-9e80efba6dcf"
      },
      "execution_count": null,
      "outputs": [
        {
          "output_type": "execute_result",
          "data": {
            "text/plain": [
              "1.6653345369377348e-16"
            ]
          },
          "metadata": {},
          "execution_count": 12
        }
      ]
    },
    {
      "cell_type": "markdown",
      "source": [
        "Вновь получаем минимальную разницу с эталонным реузльтатом. Рекурсивный метод реалтзован корректно."
      ],
      "metadata": {
        "id": "n17iYaTVf7Yf"
      }
    }
  ]
}